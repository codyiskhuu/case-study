{
 "cells": [
  {
   "cell_type": "code",
   "execution_count": 1,
   "metadata": {},
   "outputs": [],
   "source": [
    "import pandas as pd\n",
    "from matplotlib import pyplot as plt\n",
    "import seaborn as sb\n",
    "from sklearn.ensemble import RandomForestClassifier\n",
    "from sklearn.model_selection import train_test_split\n",
    "from sklearn.metrics import classification_report, confusion_matrix\n",
    "from sklearn.linear_model import LogisticRegression\n",
    "from sklearn.preprocessing import StandardScaler\n",
    "\n",
    "import warnings\n",
    "warnings.filterwarnings(\"ignore\")"
   ]
  },
  {
   "cell_type": "code",
   "execution_count": 2,
   "metadata": {},
   "outputs": [],
   "source": [
    "data = pd.read_csv('Fraud_Detection.csv')"
   ]
  },
  {
   "cell_type": "code",
   "execution_count": 23,
   "metadata": {
    "scrolled": true
   },
   "outputs": [],
   "source": [
    "colums =['type','amount', 'oldbalanceOrg', 'newbalanceOrig','oldbalanceDest', 'newbalanceDest', 'isFraud', 'isFlaggedFraud'] \n",
    "p_data = data[colums].copy()"
   ]
  },
  {
   "cell_type": "code",
   "execution_count": 24,
   "metadata": {
    "scrolled": true
   },
   "outputs": [
    {
     "data": {
      "text/plain": [
       "<matplotlib.axes._subplots.AxesSubplot at 0x1b721e77828>"
      ]
     },
     "execution_count": 24,
     "metadata": {},
     "output_type": "execute_result"
    },
    {
     "data": {
      "image/png": "[encoded data removed]",
      "text/plain": [
       "<Figure size 432x288 with 1 Axes>"
      ]
     },
     "metadata": {
      "needs_background": "light"
     },
     "output_type": "display_data"
    }
   ],
   "source": [
    "#Within the PaySim CASH_OUT & PAYMENT are the majority of the Transactions\n",
    "data.type.value_counts()\n",
    "sb.countplot(data.type)"
   ]
  },
  {
   "cell_type": "code",
   "execution_count": 25,
   "metadata": {},
   "outputs": [
    {
     "data": {
      "text/plain": [
       "<matplotlib.axes._subplots.AxesSubplot at 0x1b721b38240>"
      ]
     },
     "execution_count": 25,
     "metadata": {},
     "output_type": "execute_result"
    },
    {
     "data": {
      "image/png": "[encoded data removed]",
      "text/plain": [
       "<Figure size 432x288 with 1 Axes>"
      ]
     },
     "metadata": {
      "needs_background": "light"
     },
     "output_type": "display_data"
    }
   ],
   "source": [
    "#Determining how often transactions occur\n",
    "data['step'].hist()"
   ]
  },
  {
   "cell_type": "code",
   "execution_count": 26,
   "metadata": {},
   "outputs": [
    {
     "name": "stdout",
     "output_type": "stream",
     "text": [
      "The % of Fraud Transactions are: 0.12908204481801522 %\n"
     ]
    },
    {
     "data": {
      "image/png": "[encoded data removed]",
      "text/plain": [
       "<Figure size 432x288 with 1 Axes>"
      ]
     },
     "metadata": {
      "needs_background": "light"
     },
     "output_type": "display_data"
    }
   ],
   "source": [
    "#TRANSFER & CASH_OUT are the only two that have fraud flags\n",
    "data.isFraud.value_counts()\n",
    "sb.countplot(p_data.isFraud)\n",
    "counts = (p_data[(p_data.isFraud == 1)].isFraud.count() / p_data.isFraud.count()) * 100 \n",
    "print('The % of Fraud Transactions are:', counts, '%')"
   ]
  },
  {
   "cell_type": "code",
   "execution_count": 22,
   "metadata": {},
   "outputs": [
    {
     "name": "stdout",
     "output_type": "stream",
     "text": [
      "Number of Fraud Transfers 4097\n",
      "Number of Fraud Cash Out 4116\n"
     ]
    },
    {
     "data": {
      "image/png": "[encoded data removed]",
      "text/plain": [
       "<Figure size 432x288 with 1 Axes>"
      ]
     },
     "metadata": {
      "needs_background": "light"
     },
     "output_type": "display_data"
    }
   ],
   "source": [
    "#the amount of Fraud Transactions that have not been flagged by the agency properly\n",
    "df = data[(data.isFraud == 1)]\n",
    "ax = sb.countplot(df.type)\n",
    "print('Number of Fraud Transfers',df[(df.type == 'TRANSFER')].type.count())\n",
    "print('Number of Fraud Cash Out',df[(df.type == 'CASH_OUT')].type.count())"
   ]
  },
  {
   "cell_type": "code",
   "execution_count": 8,
   "metadata": {},
   "outputs": [
    {
     "name": "stdout",
     "output_type": "stream",
     "text": [
      "The new data now has 2770409 transactions.\n"
     ]
    }
   ],
   "source": [
    "#since Transfer and Cash Out only have fraud transactions we can single these out\n",
    "n_data = data.loc[data['type'].isin(['CASH_OUT', 'TRANSFER'])]\n",
    "print('The new data now has', len(n_data), 'transactions.')"
   ]
  },
  {
   "cell_type": "code",
   "execution_count": 9,
   "metadata": {},
   "outputs": [
    {
     "name": "stdout",
     "output_type": "stream",
     "text": [
      "Number of transactions where the transaction amount is negative: 0\n",
      "Number of transactions where the transaction amount is zero: 16\n"
     ]
    }
   ],
   "source": [
    "#See if there are any negative balances since that is impossible\n",
    "print('Number of transactions where the transaction amount is negative:', n_data[n_data.amount < 0].amount.count() )\n",
    "#If there are any transactions that = to 0 then it was Flagged and Canceled\n",
    "print('Number of transactions where the transaction amount is zero:', n_data[n_data.amount == 0].amount.count() )"
   ]
  },
  {
   "cell_type": "code",
   "execution_count": 10,
   "metadata": {},
   "outputs": [],
   "source": [
    "#remove all of the canceled transactions\n",
    "n_data = n_data.loc[n_data['amount'] > 0]"
   ]
  },
  {
   "cell_type": "code",
   "execution_count": 11,
   "metadata": {},
   "outputs": [
    {
     "name": "stdout",
     "output_type": "stream",
     "text": [
      "The % of inacurate statements in the orginal acount 94.45071511514791 %\n",
      "The % of inacurate statements in the destination acount 72.61442690621872 %\n"
     ]
    }
   ],
   "source": [
    "#From this, most of the fraud transactions come from the first half of the transaction\n",
    "print(\"The % of inacurate statements in the orginal acount\", sum(((n_data[\"oldbalanceOrg\"] - n_data[\"newbalanceOrig\"] - n_data[\"amount\"]) != 0)) / n_data.type.count() * 100, '%')\n",
    "print(\"The % of inacurate statements in the destination acount\", sum(((n_data[\"newbalanceDest\"] - n_data[\"oldbalanceDest\"]- n_data[\"amount\"]) != 0)) / n_data.type.count() * 100, '%')"
   ]
  },
  {
   "cell_type": "code",
   "execution_count": 12,
   "metadata": {},
   "outputs": [],
   "source": [
    "dummies = pd.get_dummies(p_data.type)\n",
    "p_data = pd.concat([p_data, dummies], axis=1).drop(\"type\", axis=1)\n",
    "p_data = p_data.drop(\"isFraud\", axis=1)\n",
    "p_data = p_data.drop(\"isFlaggedFraud\", axis=1)"
   ]
  },
  {
   "cell_type": "code",
   "execution_count": 13,
   "metadata": {},
   "outputs": [],
   "source": [
    "#Using the random forest classifier to fit a number of decision with these subsets to predict the accury of detecting non-fraud transactions and fraud transactions\n",
    "rfc = RandomForestClassifier()\n",
    "x = p_data\n",
    "y = data ['isFraud']\n",
    "xtrain, xtest, ytrain, ytest = train_test_split(x, y, test_size=0.3, random_state=42)"
   ]
  },
  {
   "cell_type": "code",
   "execution_count": 14,
   "metadata": {},
   "outputs": [],
   "source": [
    "model = rfc.fit(xtrain,ytrain)"
   ]
  },
  {
   "cell_type": "code",
   "execution_count": 15,
   "metadata": {},
   "outputs": [],
   "source": [
    "predicts = model.predict(xtest)"
   ]
  },
  {
   "cell_type": "code",
   "execution_count": 18,
   "metadata": {},
   "outputs": [
    {
     "name": "stdout",
     "output_type": "stream",
     "text": [
      "              precision    recall  f1-score   support\n",
      "\n",
      "           0       1.00      1.00      1.00   1906351\n",
      "           1       0.95      0.78      0.85      2435\n",
      "\n",
      "   micro avg       1.00      1.00      1.00   1908786\n",
      "   macro avg       0.98      0.89      0.93   1908786\n",
      "weighted avg       1.00      1.00      1.00   1908786\n",
      "\n"
     ]
    }
   ],
   "source": [
    "print(classification_report(ytest, predicts))"
   ]
  },
  {
   "cell_type": "code",
   "execution_count": 20,
   "metadata": {},
   "outputs": [
    {
     "data": {
      "text/plain": [
       "<matplotlib.axes._subplots.AxesSubplot at 0x1b721cde4e0>"
      ]
     },
     "execution_count": 20,
     "metadata": {},
     "output_type": "execute_result"
    },
    {
     "data": {
      "image/png": "[encoded data removed]",
      "text/plain": [
       "<Figure size 432x288 with 2 Axes>"
      ]
     },
     "metadata": {
      "needs_background": "light"
     },
     "output_type": "display_data"
    }
   ],
   "source": [
    "sb.heatmap(confusion_matrix(ytest, predicts), annot=True)"
   ]
  },
  {
   "cell_type": "code",
   "execution_count": null,
   "metadata": {},
   "outputs": [],
   "source": []
  }
 ],
 "metadata": {
  "kernelspec": {
   "display_name": "Python 3",
   "language": "python",
   "name": "python3"
  },
  "language_info": {
   "codemirror_mode": {
    "name": "ipython",
    "version": 3
   },
   "file_extension": ".py",
   "mimetype": "text/x-python",
   "name": "python",
   "nbconvert_exporter": "python",
   "pygments_lexer": "ipython3",
   "version": "3.7.1"
  }
 },
 "nbformat": 4,
 "nbformat_minor": 2
}
